{
 "cells": [
  {
   "cell_type": "code",
   "execution_count": 2,
   "metadata": {
    "collapsed": true
   },
   "outputs": [],
   "source": [
    "import numpy as np"
   ]
  },
  {
   "cell_type": "code",
   "execution_count": 3,
   "outputs": [],
   "source": [
    "a = np.array([[1,1], [4,1], [10, 2.5], [3,3], [5,3], [1,4], [3,5]])\n",
    "a = a[np.argsort(a[:, 1])]"
   ],
   "metadata": {
    "collapsed": false,
    "pycharm": {
     "name": "#%%\n"
    }
   }
  },
  {
   "cell_type": "code",
   "execution_count": 4,
   "outputs": [],
   "source": [
    "def FNB(x, y, arr, r):\n",
    "    eps = 1e-8\n",
    "    minn = 1e+9\n",
    "    pos = -1\n",
    "    for i in range(len(arr)):\n",
    "        if arr[i][1] > y + 2 * r - eps:\n",
    "            break\n",
    "        elif arr[i][1] > y - 2 * r + eps:\n",
    "            if minn - eps > arr[i][0] > x + eps:\n",
    "                minn = arr[i][0]\n",
    "                pos = i\n",
    "    return pos"
   ],
   "metadata": {
    "collapsed": false,
    "pycharm": {
     "name": "#%%\n"
    }
   }
  },
  {
   "cell_type": "code",
   "execution_count": 5,
   "outputs": [],
   "source": [
    "def CCB(x1, y1, x2, y2, r):\n",
    "    x_new = -(((2 * r) ** 2 - (y1 - y2) ** 2) ** (1 / 2)) + x2\n",
    "    l_pr = x_new - x1\n",
    "    return [x_new, l_pr]"
   ],
   "metadata": {
    "collapsed": false,
    "pycharm": {
     "name": "#%%\n"
    }
   }
  },
  {
   "cell_type": "code",
   "execution_count": 6,
   "outputs": [],
   "source": [
    "def MOB_x(ind_sh, arr, r, l_ost, l_box):\n",
    "    # Прежде всего, необходимо понять, находится ли шар в буферной зоне или нет.\n",
    "    eps = 1e-8\n",
    "    x = arr[ind_sh][0]\n",
    "    y = arr[ind_sh][1]\n",
    "\n",
    "    if x < l_box - r - eps:\n",
    "        # Мы находимся внутри коробки.\n",
    "        pos = FNB(x, y, arr, r)\n",
    "\n",
    "        if pos == -1:\n",
    "            # Значит шаров, с которыми можно столкнуться внутри коробки нет.\n",
    "            if l_ost > (l_box - r) - x + eps:\n",
    "                l_ost -= (l_box - r) - x\n",
    "                arr[ind_sh][0] = l_box - r\n",
    "                return MOB_x(ind_sh, arr, r, l_ost, l_box)\n",
    "            else:\n",
    "                arr[ind_sh][0] += l_ost\n",
    "                return arr\n",
    "\n",
    "        else:\n",
    "            # Значит есть шар, с которым можно столкнуться.\n",
    "            x_new, l_pr = CCB(x, y, arr[pos][0], arr[pos][1], r)\n",
    "            if l_ost > l_pr + eps:\n",
    "                l_ost -= l_pr\n",
    "                arr[ind_sh][0] += l_pr\n",
    "                return MOB_x(pos, arr, r, l_ost, l_box)\n",
    "            else:\n",
    "                arr[ind_sh][0] += l_ost\n",
    "                return arr\n",
    "\n",
    "    else:\n",
    "        # Мы находимся внутри буферной зоны или на ее границе.\n",
    "        # Важным уточнением является то, что мы ввели буферную зону, но не заполняли ее. Поэтому важна отдельная обработка поиска шаров для начала коробки, так как в начальный момент, например, в буфере ничего нет, но вот в начале шар может быть, это необходимо учитывать.\n",
    "        pos_buf = FNB(x, y, arr, r)\n",
    "        pos_strt = FNB(x - l_box, y, arr, r)\n",
    "\n",
    "        # Для начала проверим, есть ли шары, с которыми мы можем столкнуться в буферной зоне.\n",
    "        if pos_buf != -1:\n",
    "            # Таким образом, есть шар, с которым мы столкнемся в буферной зоне.\n",
    "            pos = pos_buf\n",
    "            x_new, l_pr = CCB(x, y, arr[pos][0], arr[pos][1], r)\n",
    "            if l_ost > l_pr + eps:\n",
    "                l_ost -= l_pr\n",
    "                arr[ind_sh][0] += l_pr\n",
    "                return MOB_x(pos, arr, r, l_ost, l_box)\n",
    "            else:\n",
    "                arr[ind_sh][0] += l_ost\n",
    "                return arr\n",
    "\n",
    "        else:\n",
    "            # То есть буферная полоса пустая. По крайней мере, если \"смотреть\" с конца, давайте рассмотрим ситуацию от левого края коробки (левой буферной зоны).\n",
    "            if pos_strt != -1 and np.array_equal(arr[pos_strt], np.array(x, y)) == False:\n",
    "                # Значит мы нашли шар, с которым мы столкнемся, причем он лежит внутри коробки, иначе мы бы нашли его при просмотре буферной зоны.\n",
    "                # Здесь необходимо работать аккуратно и, в случае если шар прошел буферную зону перевести его в обычную зону.\n",
    "                pos = pos_strt\n",
    "                x_new, l_pr = CCB(x - l_box, y, arr[pos][0], arr[pos][1], r)\n",
    "                if l_ost > l_pr + eps:\n",
    "                    l_ost -= l_pr\n",
    "                    arr[ind_sh][0] += l_pr\n",
    "                    if arr[ind_sh][0] > (l_box + r) - eps:\n",
    "                        arr[ind_sh][0] -= (l_box + r)\n",
    "                    return MOB_x(pos, arr, r, l_ost, l_box)\n",
    "                else:\n",
    "                    arr[ind_sh][0] += l_ost\n",
    "                    if arr[ind_sh][0] > (l_box + r) - eps:\n",
    "                        arr[ind_sh][0] -= (l_box + r)\n",
    "                    return arr\n",
    "\n",
    "            else:\n",
    "                # Значит шаров для столкновения, тогда двигаем настолько, насколько можем.\n",
    "                arr[ind_sh][0] += l_ost\n",
    "                if arr[ind_sh][0] >= (l_box + r) - eps:\n",
    "                    arr[ind_sh][0] -= (l_box + r)\n",
    "                return arr"
   ],
   "metadata": {
    "collapsed": false,
    "pycharm": {
     "name": "#%%\n"
    }
   }
  },
  {
   "cell_type": "code",
   "execution_count": 117,
   "outputs": [],
   "source": [
    "a = np.array([[1,1], [4,1], [10, 2.5], [3,3], [5,3], [1,4], [3,5]])\n",
    "a = a[np.argsort(a[:, 1])]\n",
    "shx = 0\n",
    "shy = 1\n",
    "\n",
    "a_res_x = MOB_x(shx, a, 1, 7, 11)\n",
    "copy_x = a_res_x.copy()\n",
    "for i in range(len(a_res_x)):\n",
    "    a_res_x[i] = np.array([a_res_x[i][1], a_res_x[i][0]])\n",
    "a_res_x = a_res_x[np.argsort(a_res_x[:, 1])]\n",
    "\n",
    "\n",
    "a_res_xy = MOB_x(shy, a_res_x, 1, 5, 11)\n",
    "for i in range(len(a_res_xy)):\n",
    "    a_res_xy[i] = np.array([a_res_xy[i][1], a_res_xy[i][0]])\n",
    "\n",
    "a_res_x = copy_x"
   ],
   "metadata": {
    "collapsed": false,
    "pycharm": {
     "name": "#%%\n"
    }
   }
  },
  {
   "cell_type": "code",
   "execution_count": 123,
   "outputs": [
    {
     "data": {
      "text/plain": "<Figure size 1080x1080 with 3 Axes>",
      "image/png": "[encoded data removed]"
     },
     "metadata": {
      "needs_background": "light"
     },
     "output_type": "display_data"
    }
   ],
   "source": [
    "import matplotlib.pyplot as plt\n",
    "%matplotlib inline\n",
    "l_box = 11\n",
    "r = 1\n",
    "a = np.array([[1,1], [4,1], [10, 2.5], [3,3], [5,3], [1,4], [3,5]])\n",
    "a = a[np.argsort(a[:, 1])]\n",
    "\n",
    "fig, (ax1, ax2, ax3) = plt.subplots(nrows=3, ncols=1, figsize=(15,15))\n",
    "\n",
    "ax1.set(xlim=(0, l_box), ylim=(0, l_box))\n",
    "for i in range(len(a)):\n",
    "    circle = plt.Circle((a[i][0] % l_box, a[i][1] % l_box), r, color='b')\n",
    "    ax1.add_patch(circle)\n",
    "ax1.set_aspect('equal')\n",
    "\n",
    "ax2.set(xlim=(0, l_box), ylim=(0, l_box))\n",
    "for i in range(len(a_res_x)):\n",
    "    circle = plt.Circle((a_res_x[i][0] % l_box, a_res_x[i][1] % l_box), r, color='b')\n",
    "    ax2.add_patch(circle)\n",
    "ax2.set_aspect('equal')\n",
    "\n",
    "ax3.set(xlim=(0, l_box), ylim=(0, l_box))\n",
    "for i in range(len(a_res_xy)):\n",
    "    circle = plt.Circle((a_res_xy[i][0] % l_box, a_res_xy[i][1] % l_box), r, color='b')\n",
    "    ax3.add_patch(circle)\n",
    "ax3.set_aspect('equal')"
   ],
   "metadata": {
    "collapsed": false,
    "pycharm": {
     "name": "#%%\n"
    }
   }
  },
  {
   "cell_type": "code",
   "execution_count": null,
   "outputs": [],
   "source": [],
   "metadata": {
    "collapsed": false,
    "pycharm": {
     "name": "#%%\n"
    }
   }
  }
 ],
 "metadata": {
  "kernelspec": {
   "display_name": "Python 3",
   "language": "python",
   "name": "python3"
  },
  "language_info": {
   "codemirror_mode": {
    "name": "ipython",
    "version": 2
   },
   "file_extension": ".py",
   "mimetype": "text/x-python",
   "name": "python",
   "nbconvert_exporter": "python",
   "pygments_lexer": "ipython2",
   "version": "2.7.6"
  }
 },
 "nbformat": 4,
 "nbformat_minor": 0
}